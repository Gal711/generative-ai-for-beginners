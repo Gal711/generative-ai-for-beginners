{
 "cells": [
  {
   "cell_type": "code",
   "execution_count": 1,
   "metadata": {},
   "outputs": [],
   "source": [
    "import openai\n",
    "from openai import OpenAI\n",
    "import os\n",
    "import requests\n",
    "from PIL import Image\n",
    "import dotenv"
   ]
  },
  {
   "cell_type": "code",
   "execution_count": 2,
   "metadata": {},
   "outputs": [],
   "source": [
    "# import dotenv\n",
    "dotenv.load_dotenv()\n",
    "client = OpenAI(api_key=os.getenv('OPENAI_API_KEY'))"
   ]
  },
  {
   "cell_type": "code",
   "execution_count": null,
   "metadata": {},
   "outputs": [],
   "source": [
    "try:\n",
    "    # Create an image by using the image generation API\n",
    "    generation_response = client.images.generate(\n",
    "        model=\"dall-e-3\",\n",
    "        prompt='A guy climbing a cliff and above him, a titan waits for him',    # Enter your prompt text here\n",
    "        size='1024x1024',\n",
    "        n=1,\n",
    "    )\n",
    "    # Set the directory for the stored image\n",
    "    image_dir = os.path.join(os.curdir, 'images')\n",
    "\n",
    "    # If the directory doesn't exist, create it\n",
    "    if not os.path.isdir(image_dir):\n",
    "        os.mkdir(image_dir)\n",
    "\n",
    "    # Initialize the image path (note the filetype should be png)\n",
    "    image_path = os.path.join(image_dir, 'generated-image_v2.png')\n",
    "\n",
    "    # Retrieve the generated image\n",
    "    image_url = generation_response.data[0].url  # extract image URL from response\n",
    "    generated_image = requests.get(image_url).content  # download the image\n",
    "    with open(image_path, \"wb\") as image_file:\n",
    "        image_file.write(generated_image)\n",
    "\n",
    "    # Display the image in the default image viewer\n",
    "    image = Image.open(image_path)\n",
    "    image.show()\n",
    "# catch exceptions\n",
    "except openai.OpenAIError as err:\n",
    "    print(err)"
   ]
  },
  {
   "cell_type": "code",
   "execution_count": 6,
   "metadata": {},
   "outputs": [],
   "source": [
    "# ---creating variation below---\n",
    "\n",
    "response = client.images.create_variation(\n",
    "  image=open(image_path, \"rb\"),\n",
    "  n=1,\n",
    "  size=\"1024x1024\"\n",
    ")\n",
    "\n",
    "image_path = os.path.join(image_dir, 'generated_variation.png')\n",
    "\n",
    "image_url = response.data[0].url\n",
    "\n",
    "generated_image = requests.get(image_url).content  # download the image\n",
    "with open(image_path, \"wb\") as image_file:\n",
    "    image_file.write(generated_image)"
   ]
  },
  {
   "cell_type": "code",
   "execution_count": null,
   "metadata": {},
   "outputs": [],
   "source": [
    "# Display the image in the default image viewer\n",
    "image = Image.open(image_path)\n",
    "image.show()"
   ]
  },
  {
   "cell_type": "code",
   "execution_count": null,
   "metadata": {},
   "outputs": [],
   "source": []
  }
 ],
 "metadata": {
  "kernelspec": {
   "display_name": "genAI4beg",
   "language": "python",
   "name": "python3"
  },
  "language_info": {
   "codemirror_mode": {
    "name": "ipython",
    "version": 3
   },
   "file_extension": ".py",
   "mimetype": "text/x-python",
   "name": "python",
   "nbconvert_exporter": "python",
   "pygments_lexer": "ipython3",
   "version": "3.10.8"
  }
 },
 "nbformat": 4,
 "nbformat_minor": 2
}
